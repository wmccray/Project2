{
 "cells": [
  {
   "cell_type": "markdown",
   "metadata": {},
   "source": [
    "Initialize the libararies"
   ]
  },
  {
   "cell_type": "code",
   "execution_count": 8,
   "metadata": {},
   "outputs": [],
   "source": [
    "from qiskit.chemistry import FermionicOperator\n",
    "from qiskit.chemistry.drivers import PySCFDriver, UnitsType\n",
    "from qiskit.aqua.operators import Z2Symmetries\n",
    "from qiskit.aqua.components.optimizers import L_BFGS_B\n",
    "from qiskit.chemistry.components.initial_states import HartreeFock\n",
    "from qiskit.tools.visualization import plot_histogram\n",
    "from qiskit import IBMQ, execute\n",
    "from qiskit.circuit.library import EfficientSU2\n",
    "from qiskit.providers.aer.noise import NoiseModel\n",
    "from qiskit.aqua import QuantumInstance\n",
    "from qiskit.ignis.mitigation.measurement import CompleteMeasFitter\n",
    "from qiskit.aqua.algorithms import VQE, NumPyEigensolver\n",
    "import numpy as np\n",
    "from qiskit.aqua.components.optimizers import SPSA"
   ]
  },
  {
   "cell_type": "markdown",
   "metadata": {},
   "source": [
    "Use PySCF, a classical computational chemistry software package, to compute the one-body and two-body integrals in\n",
    "molecular-orbital basis, necessary to form the Fermionic operator"
   ]
  },
  {
   "cell_type": "code",
   "execution_count": 9,
   "metadata": {},
   "outputs": [],
   "source": [
    "driver = PySCFDriver(atom='C .0 .0 .0;O .0 .0 .93', unit=UnitsType.ANGSTROM,\n",
    "                     charge=0, spin=0, basis='sto3g')\n",
    "molecule = driver.run()\n",
    "num_particles = molecule.num_alpha + molecule.num_beta\n",
    "num_spin_orbitals = molecule.num_orbitals * 2"
   ]
  },
  {
   "cell_type": "markdown",
   "metadata": {},
   "source": [
    "The Solver\n",
    "Then we need to define a solver. The solver is the algorithm through which the ground state is computed.\n",
    "Let's first start with a purely classical example: the NumPy minimum eigensolver. This algorithm exactly diagonalizes the Hamiltonian. Although it scales badely, it can be used on small systems to check the results of the quantum algorithms."
   ]
  },
  {
   "cell_type": "code",
   "execution_count": null,
   "metadata": {},
   "outputs": [],
   "source": [
    "# Build the qubit operator, which is the input to the VQE algorithm in Aqua\n",
    "ferm_op = FermionicOperator(h1=molecule.one_body_integrals, h2=molecule.two_body_integrals)\n",
    "map_type = 'JORDAN_WIGNER'\n",
    "qubit_op = ferm_op.mapping(map_type)\n",
    "qubit_op = Z2Symmetries.two_qubit_reduction(qubit_op, num_particles)\n",
    "num_qubits = qubit_op.num_qubits\n",
    "print(num_qubits)"
   ]
  },
  {
   "cell_type": "markdown",
   "metadata": {},
   "source": [
    "Let's initialize a VQE solver."
   ]
  },
  {
   "cell_type": "code",
   "execution_count": 4,
   "metadata": {},
   "outputs": [],
   "source": [
    "# setup a classical optimizer for VQE\n",
    "optimizer = SPSA(maxiter=100)\n",
    "#optimizer = L_BFGS_B()"
   ]
  },
  {
   "cell_type": "markdown",
   "metadata": {},
   "source": [
    "To define the VQE solver one needs two essential elements:\n",
    "\n",
    "A variational form: here we use the Unitary Coupled Cluster (UCC) ansatz (see for instance [Physical Review A 98.2 (2018): 022322]). Since it is a chemistry standard, a factory is already available allowing a fast initialization of a VQE with UCC. The default is to use all single and double excitations. However, the excitation type (S, D, SD) as well as other parameters can be selected.\n",
    "An initial state: the initial state of the qubits. In the factory used above, the qubits are initialized in the Hartree-Fock (see the electronic structure tutorial) initial state (the qubits corresponding to occupied MOs are $|1\\rangle$ and those corresponding to virtual MOs are $|0\\rangle$.\n",
    "The backend: this is the quantum machine on which the right part of the figure above will be performed. Here we ask for the perfect quantum emulator (statevector_simulator).\n",
    "One could also use any available variational form / initial state or even define one's own. For instance,"
   ]
  },
  {
   "cell_type": "code",
   "execution_count": 5,
   "metadata": {},
   "outputs": [],
   "source": [
    "# setup the initial state for the variational form\n",
    "\n",
    "init_state = HartreeFock(num_spin_orbitals, num_particles)"
   ]
  },
  {
   "cell_type": "markdown",
   "metadata": {},
   "source": [
    "The calculation and results\n",
    "We are now ready to run the calculation."
   ]
  },
  {
   "cell_type": "code",
   "execution_count": 6,
   "metadata": {},
   "outputs": [
    {
     "name": "stdout",
     "output_type": "stream",
     "text": [
      "VQE REsult: -0.7395626092278245\n"
     ]
    }
   ],
   "source": [
    "# setup the variational form for VQE\n",
    "from qiskit.circuit.library import TwoLocal\n",
    "var_form = EfficientSU2(qubit_op.num_qubits, entanglement=\"linear\")\n",
    "\n",
    "# setup and run VQE\n",
    "from qiskit.aqua.algorithms import VQE\n",
    "algorithm = VQE(qubit_op, var_form, optimizer)\n",
    "\n",
    "# set the backend for the quantum computation\n",
    "from qiskit import Aer\n",
    "#backend = Aer.get_backend('statevector_simulator')\n",
    "backend = Aer.get_backend('qasm_simulator')\n",
    "result = algorithm.run(backend)\n",
    "vqe_result=np.real(result['eigenvalue']+molecule.nuclear_repulsion_energy)\n",
    "print(\"VQE REsult:\",vqe_result)\n"
   ]
  },
  {
   "cell_type": "markdown",
   "metadata": {},
   "source": [
    "Running on the IBMQ"
   ]
  },
  {
   "cell_type": "code",
   "execution_count": 54,
   "metadata": {},
   "outputs": [],
   "source": [
    "IBMQ.delete_account()"
   ]
  },
  {
   "cell_type": "code",
   "execution_count": 55,
   "metadata": {},
   "outputs": [
    {
     "data": {
      "text/plain": [
       "{'token': 'beb2ac53efd858042d3dbdc7caa009b058b83b6e65a818fd9923371ade1a0e81e92cdd3d7541ac1735b7fb1477ec2343a1e7fdba5cc8051fcae7b116d4dc31a9',\n",
       " 'url': 'https://auth.quantum-computing.ibm.com/api'}"
      ]
     },
     "execution_count": 55,
     "metadata": {},
     "output_type": "execute_result"
    }
   ],
   "source": [
    "IBMQ.active_account()"
   ]
  },
  {
   "cell_type": "code",
   "execution_count": 56,
   "metadata": {},
   "outputs": [],
   "source": [
    "IBMQ.save_account('beb2ac53efd858042d3dbdc7caa009b058b83b6e65a818fd9923371ade1a0e81e92cdd3d7541ac1735b7fb1477ec2343a1e7fdba5cc8051fcae7b116d4dc31a9', overwrite=True)"
   ]
  },
  {
   "cell_type": "code",
   "execution_count": 113,
   "metadata": {
    "scrolled": true
   },
   "outputs": [
    {
     "name": "stderr",
     "output_type": "stream",
     "text": [
      "ibmqfactory.load_account:WARNING:2020-11-10 13:09:56,823: Credentials are already in use. The existing account in the session will be replaced.\n"
     ]
    }
   ],
   "source": [
    "IBMQ.load_account()\n",
    "provider = IBMQ.get_provider(hub='ibm-q', group='open', project='main')\n",
    "backend = Aer.get_backend(\"qasm_simulator\") \n",
    "device = provider.get_backend(\"ibmq_vigo\")  # (other backends are available as well, if you want to go looking)\n",
    "coupling_map = device.configuration().coupling_map\n",
    "noise_model = NoiseModel.from_backend(device.properties())\n",
    "quantum_instance = QuantumInstance(backend = backend,\n",
    "                                  shots = 8192,\n",
    "                                  noise_model = noise_model,\n",
    "                                  coupling_map=coupling_map,\n",
    "                                  measurement_error_mitigation_cls=CompleteMeasFitter,\n",
    "                                   cals_matrix_refresh_period = 30)"
   ]
  },
  {
   "cell_type": "markdown",
   "metadata": {},
   "source": []
  },
  {
   "cell_type": "code",
   "execution_count": 7,
   "metadata": {},
   "outputs": [
    {
     "name": "stdout",
     "output_type": "stream",
     "text": [
      "Exact Result: [-0.74361971]\n"
     ]
    },
    {
     "ename": "NameError",
     "evalue": "name 'quantum_instance' is not defined",
     "output_type": "error",
     "traceback": [
      "\u001b[0;31m---------------------------------------------------------------------------\u001b[0m",
      "\u001b[0;31mNameError\u001b[0m                                 Traceback (most recent call last)",
      "\u001b[0;32m<ipython-input-7-c21cb6c59ef9>\u001b[0m in \u001b[0;36m<module>\u001b[0;34m\u001b[0m\n\u001b[1;32m      3\u001b[0m \u001b[0mvar_form\u001b[0m \u001b[0;34m=\u001b[0m \u001b[0mEfficientSU2\u001b[0m\u001b[0;34m(\u001b[0m\u001b[0mqubit_op\u001b[0m\u001b[0;34m.\u001b[0m\u001b[0mnum_qubits\u001b[0m\u001b[0;34m,\u001b[0m \u001b[0mentanglement\u001b[0m\u001b[0;34m=\u001b[0m\u001b[0;34m\"linear\"\u001b[0m\u001b[0;34m)\u001b[0m\u001b[0;34m\u001b[0m\u001b[0;34m\u001b[0m\u001b[0m\n\u001b[1;32m      4\u001b[0m \u001b[0mvqe\u001b[0m \u001b[0;34m=\u001b[0m \u001b[0mVQE\u001b[0m\u001b[0;34m(\u001b[0m\u001b[0mqubit_op\u001b[0m\u001b[0;34m,\u001b[0m\u001b[0mvar_form\u001b[0m\u001b[0;34m,\u001b[0m\u001b[0moptimizer\u001b[0m\u001b[0;34m=\u001b[0m\u001b[0moptimizer\u001b[0m\u001b[0;34m)\u001b[0m\u001b[0;34m\u001b[0m\u001b[0;34m\u001b[0m\u001b[0m\n\u001b[0;32m----> 5\u001b[0;31m \u001b[0mret\u001b[0m \u001b[0;34m=\u001b[0m \u001b[0mvqe\u001b[0m\u001b[0;34m.\u001b[0m\u001b[0mrun\u001b[0m\u001b[0;34m(\u001b[0m\u001b[0mquantum_instance\u001b[0m\u001b[0;34m)\u001b[0m\u001b[0;34m\u001b[0m\u001b[0;34m\u001b[0m\u001b[0m\n\u001b[0m\u001b[1;32m      6\u001b[0m \u001b[0mvqe_result\u001b[0m\u001b[0;34m=\u001b[0m\u001b[0mnp\u001b[0m\u001b[0;34m.\u001b[0m\u001b[0mreal\u001b[0m\u001b[0;34m(\u001b[0m\u001b[0mret\u001b[0m\u001b[0;34m[\u001b[0m\u001b[0;34m'eigenvalue'\u001b[0m\u001b[0;34m]\u001b[0m\u001b[0;34m+\u001b[0m\u001b[0mmolecule\u001b[0m\u001b[0;34m.\u001b[0m\u001b[0mnuclear_repulsion_energy\u001b[0m\u001b[0;34m)\u001b[0m\u001b[0;34m\u001b[0m\u001b[0;34m\u001b[0m\u001b[0m\n\u001b[1;32m      7\u001b[0m \u001b[0mprint\u001b[0m\u001b[0;34m(\u001b[0m\u001b[0;34m\"VQE REsult:\"\u001b[0m\u001b[0;34m,\u001b[0m\u001b[0mvqe_result\u001b[0m\u001b[0;34m)\u001b[0m\u001b[0;34m\u001b[0m\u001b[0;34m\u001b[0m\u001b[0m\n",
      "\u001b[0;31mNameError\u001b[0m: name 'quantum_instance' is not defined"
     ]
    }
   ],
   "source": [
    "exact_solution = NumPyEigensolver(qubit_op).run()\n",
    "print(\"Exact Result:\",np.real(exact_solution.eigenvalues)+molecule.nuclear_repulsion_energy)\n",
    "var_form = EfficientSU2(qubit_op.num_qubits, entanglement=\"linear\")\n",
    "vqe = VQE(qubit_op,var_form,optimizer=optimizer)\n",
    "ret = vqe.run(quantum_instance)\n",
    "vqe_result=np.real(ret['eigenvalue']+molecule.nuclear_repulsion_energy)\n",
    "print(\"VQE REsult:\",vqe_result)\n"
   ]
  },
  {
   "cell_type": "markdown",
   "metadata": {},
   "source": [
    "Using a filter function\n",
    "Sometimes the true ground state of the Hamiltonian is not of interest because it lies in a different symmetry sector of the Hilbert space. In this case the NumPy eigensolver can take a filter function to return only the eigenstates with for example the correct number of particles. This is of particular importance in the case of vibronic structure calculations where the true ground state of the Hamiltonian is the vacuum state. A default filter function to check the number of particles is implemented in the different transformations and can be used as"
   ]
  },
  {
   "cell_type": "code",
   "execution_count": null,
   "metadata": {},
   "outputs": [],
   "source": [
    "from qiskit.chemistry.drivers import GaussianForcesDriver\n",
    "from qiskit.chemistry.algorithms.ground_state_solvers import NumPyMinimumEigensolverFactory\n",
    "from qiskit.chemistry.transformations import (BosonicTransformation,\n",
    "                                              BosonicTransformationType,\n",
    "                                              BosonicQubitMappingType)\n",
    "\n",
    "driver = GaussianForcesDriver(logfile='aux_files/CO2_freq_B3LYP_ccpVDZ.log')\n",
    "bosonic_transformation = BosonicTransformation(qubit_mapping=BosonicQubitMappingType.DIRECT,\n",
    "                                               transformation_type=BosonicTransformationType.HARMONIC,\n",
    "                                               basis_size=2,\n",
    "                                               truncation=2)\n",
    "\n",
    "solver_without_filter = NumPyMinimumEigensolverFactory(use_default_filter_criterion=False)\n",
    "solver_with_filter = NumPyMinimumEigensolverFactory(use_default_filter_criterion=True)\n",
    "\n",
    "gsc_wo = GroundStateEigensolver(bosonic_transformation, solver_without_filter)\n",
    "result_wo = gsc_wo.solve(driver)\n",
    "\n",
    "gsc_w = GroundStateEigensolver(bosonic_transformation, solver_with_filter)\n",
    "result_w = gsc_w.solve(driver)\n",
    "\n",
    "print(result_wo)\n",
    "print('\\n\\n')\n",
    "print(result_w)"
   ]
  }
 ],
 "metadata": {
  "kernelspec": {
   "display_name": "Python 3",
   "language": "python",
   "name": "python3"
  },
  "language_info": {
   "codemirror_mode": {
    "name": "ipython",
    "version": 3
   },
   "file_extension": ".py",
   "mimetype": "text/x-python",
   "name": "python",
   "nbconvert_exporter": "python",
   "pygments_lexer": "ipython3",
   "version": "3.7.4"
  }
 },
 "nbformat": 4,
 "nbformat_minor": 2
}
